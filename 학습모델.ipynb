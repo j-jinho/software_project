{
  "nbformat": 4,
  "nbformat_minor": 0,
  "metadata": {
    "colab": {
      "name": "학습모델",
      "provenance": [],
      "collapsed_sections": []
    },
    "kernelspec": {
      "name": "python3",
      "display_name": "Python 3"
    },
    "accelerator": "GPU"
  },
  "cells": [
    {
      "cell_type": "code",
      "metadata": {
        "colab": {
          "base_uri": "https://localhost:8080/"
        },
        "id": "1qavl0F3ogRI",
        "outputId": "b7251e0c-0c25-4d09-cf8e-907c47f7f7e1"
      },
      "source": [
        "from google.colab import drive\n",
        "drive.mount('/content/drive')"
      ],
      "execution_count": 1,
      "outputs": [
        {
          "output_type": "stream",
          "text": [
            "Mounted at /content/drive\n"
          ],
          "name": "stdout"
        }
      ]
    },
    {
      "cell_type": "code",
      "metadata": {
        "colab": {
          "base_uri": "https://localhost:8080/"
        },
        "id": "SK1_5zQI3LDp",
        "outputId": "67e0b195-d358-4b07-9f2c-79d64004fd89"
      },
      "source": [
        "import numpy as np\r\n",
        "import tensorflow as tf\r\n",
        "\r\n",
        "data_in = '/content/drive/MyDrive/Colab Notebooks/img_data.npy'\r\n",
        "\r\n",
        "x_train, x_test, y_train, y_test = np.load(data_in, allow_pickle=True)\r\n",
        "import matplotlib.pyplot as plt\r\n",
        "print(x_train.shape,x_test.shape)\r\n"
      ],
      "execution_count": 16,
      "outputs": [
        {
          "output_type": "stream",
          "text": [
            "(750, 28, 28) (250, 28, 28)\n"
          ],
          "name": "stdout"
        }
      ]
    },
    {
      "cell_type": "code",
      "metadata": {
        "id": "fBeSryYXeBDA"
      },
      "source": [
        "for i in range(0,250):\r\n",
        "  sum =0\r\n",
        "  for l in range(0,28):\r\n",
        "    sum = sum + x_test[i][13][l]\r\n",
        "    sum = sum + x_test[i][l][13]\r\n",
        "  sum= sum / 56\r\n",
        "  a=sum\r\n",
        "  a = a *1\r\n",
        "  for j in range(0,28):\r\n",
        "    for k in range(0,28):\r\n",
        "      if x_test[i][j][k] > a:  #배경\r\n",
        "        x_test[i][j][k]=0\r\n",
        "      else:\r\n",
        "        x_test[i][j][k]=0.99   #글자\r\n"
      ],
      "execution_count": 18,
      "outputs": []
    },
    {
      "cell_type": "code",
      "metadata": {
        "id": "SCc1-ujOTmVx"
      },
      "source": [
        "for i in range(0,750):\r\n",
        "  sum =0\r\n",
        "  for l in range(0,28):\r\n",
        "    sum = sum + x_train[i][13][l]\r\n",
        "    sum = sum + x_train[i][l][13]\r\n",
        "  sum= sum / 56\r\n",
        "  a=sum\r\n",
        "  a = a *1\r\n",
        "  for j in range(0,28):\r\n",
        "    for k in range(0,28):\r\n",
        "      \r\n",
        "      if x_train[i][j][k] > a:  \r\n",
        "        x_train[i][j][k]=0\r\n",
        "      else:\r\n",
        "        x_train[i][j][k]=0.99  \r\n",
        "  \r\n",
        "  "
      ],
      "execution_count": 19,
      "outputs": []
    },
    {
      "cell_type": "code",
      "metadata": {
        "id": "8ReS-Wgo5x6f"
      },
      "source": [
        "y_train = np.argmax(y_train, axis=1).reshape(-1,1)\r\n",
        "y_test = np.argmax(y_test, axis=1).reshape(-1,1)"
      ],
      "execution_count": 20,
      "outputs": []
    },
    {
      "cell_type": "code",
      "metadata": {
        "id": "l3uaKYB99Euz"
      },
      "source": [
        "x_train = x_train.reshape(-1, 28, 28, 1)\r\n",
        "x_test = x_test.reshape(-1, 28, 28, 1)"
      ],
      "execution_count": 21,
      "outputs": []
    },
    {
      "cell_type": "code",
      "metadata": {
        "colab": {
          "base_uri": "https://localhost:8080/"
        },
        "id": "NMdrZOyq8tEE",
        "outputId": "f731087a-5214-426c-bd83-6d0aeeafae16"
      },
      "source": [
        "model = tf.keras.Sequential([\r\n",
        "  tf.keras.layers.Conv2D(24, kernel_size=(6, 6), strides=(2,2),activation='relu'),\r\n",
        "  tf.keras.layers.BatchNormalization(scale=False),\r\n",
        "  tf.keras.layers.Dropout(0.25),\r\n",
        "\r\n",
        "  tf.keras.layers.Conv2D(48, kernel_size=(5, 5), strides=(2,2),activation='relu'),\r\n",
        "  tf.keras.layers.BatchNormalization(scale=False),\r\n",
        "  tf.keras.layers.Dropout(0.25),\r\n",
        "\r\n",
        "  tf.keras.layers.Conv2D(64, kernel_size=(4, 4), strides=(2,2)),\r\n",
        "  tf.keras.layers.BatchNormalization(scale=False),\r\n",
        "  tf.keras.layers.Activation('relu'),\r\n",
        "  tf.keras.layers.Dropout(0.25),\r\n",
        "\r\n",
        "  tf.keras.layers.Flatten(),\r\n",
        "  tf.keras.layers.Dense(units=200,activation='relu'),\r\n",
        "  tf.keras.layers.BatchNormalization(scale=False),\r\n",
        "  tf.keras.layers.Dropout(0.25),\r\n",
        "  tf.keras.layers.Dense(units=10, activation='softmax')\r\n",
        "])\r\n",
        "\r\n",
        "model.compile(optimizer='adam',\r\n",
        "              loss='sparse_categorical_crossentropy',\r\n",
        "              metrics=['accuracy'])\r\n",
        "\r\n",
        "model.fit(x_train, y_train, epochs=70)"
      ],
      "execution_count": 22,
      "outputs": [
        {
          "output_type": "stream",
          "text": [
            "Epoch 1/70\n",
            "24/24 [==============================] - 1s 4ms/step - loss: 2.9200 - accuracy: 0.1293\n",
            "Epoch 2/70\n",
            "24/24 [==============================] - 0s 3ms/step - loss: 1.7945 - accuracy: 0.3733\n",
            "Epoch 3/70\n",
            "24/24 [==============================] - 0s 3ms/step - loss: 1.2846 - accuracy: 0.5968\n",
            "Epoch 4/70\n",
            "24/24 [==============================] - 0s 3ms/step - loss: 1.0710 - accuracy: 0.6585\n",
            "Epoch 5/70\n",
            "24/24 [==============================] - 0s 4ms/step - loss: 0.7672 - accuracy: 0.7491\n",
            "Epoch 6/70\n",
            "24/24 [==============================] - 0s 4ms/step - loss: 0.7131 - accuracy: 0.7709\n",
            "Epoch 7/70\n",
            "24/24 [==============================] - 0s 4ms/step - loss: 0.6614 - accuracy: 0.7890\n",
            "Epoch 8/70\n",
            "24/24 [==============================] - 0s 4ms/step - loss: 0.5557 - accuracy: 0.7807\n",
            "Epoch 9/70\n",
            "24/24 [==============================] - 0s 4ms/step - loss: 0.5393 - accuracy: 0.8272\n",
            "Epoch 10/70\n",
            "24/24 [==============================] - 0s 4ms/step - loss: 0.4156 - accuracy: 0.8598\n",
            "Epoch 11/70\n",
            "24/24 [==============================] - 0s 4ms/step - loss: 0.4201 - accuracy: 0.8620\n",
            "Epoch 12/70\n",
            "24/24 [==============================] - 0s 3ms/step - loss: 0.3416 - accuracy: 0.8872\n",
            "Epoch 13/70\n",
            "24/24 [==============================] - 0s 3ms/step - loss: 0.3031 - accuracy: 0.8903\n",
            "Epoch 14/70\n",
            "24/24 [==============================] - 0s 4ms/step - loss: 0.2453 - accuracy: 0.9179\n",
            "Epoch 15/70\n",
            "24/24 [==============================] - 0s 4ms/step - loss: 0.2363 - accuracy: 0.9376\n",
            "Epoch 16/70\n",
            "24/24 [==============================] - 0s 3ms/step - loss: 0.3304 - accuracy: 0.8780\n",
            "Epoch 17/70\n",
            "24/24 [==============================] - 0s 4ms/step - loss: 0.2305 - accuracy: 0.9251\n",
            "Epoch 18/70\n",
            "24/24 [==============================] - 0s 4ms/step - loss: 0.2459 - accuracy: 0.9092\n",
            "Epoch 19/70\n",
            "24/24 [==============================] - 0s 3ms/step - loss: 0.1631 - accuracy: 0.9585\n",
            "Epoch 20/70\n",
            "24/24 [==============================] - 0s 3ms/step - loss: 0.1445 - accuracy: 0.9613\n",
            "Epoch 21/70\n",
            "24/24 [==============================] - 0s 3ms/step - loss: 0.1428 - accuracy: 0.9570\n",
            "Epoch 22/70\n",
            "24/24 [==============================] - 0s 4ms/step - loss: 0.1669 - accuracy: 0.9508\n",
            "Epoch 23/70\n",
            "24/24 [==============================] - 0s 3ms/step - loss: 0.1878 - accuracy: 0.9365\n",
            "Epoch 24/70\n",
            "24/24 [==============================] - 0s 3ms/step - loss: 0.1236 - accuracy: 0.9601\n",
            "Epoch 25/70\n",
            "24/24 [==============================] - 0s 4ms/step - loss: 0.2223 - accuracy: 0.9204\n",
            "Epoch 26/70\n",
            "24/24 [==============================] - 0s 3ms/step - loss: 0.1661 - accuracy: 0.9470\n",
            "Epoch 27/70\n",
            "24/24 [==============================] - 0s 4ms/step - loss: 0.1173 - accuracy: 0.9603\n",
            "Epoch 28/70\n",
            "24/24 [==============================] - 0s 4ms/step - loss: 0.1152 - accuracy: 0.9583\n",
            "Epoch 29/70\n",
            "24/24 [==============================] - 0s 4ms/step - loss: 0.1149 - accuracy: 0.9578\n",
            "Epoch 30/70\n",
            "24/24 [==============================] - 0s 4ms/step - loss: 0.0957 - accuracy: 0.9686\n",
            "Epoch 31/70\n",
            "24/24 [==============================] - 0s 3ms/step - loss: 0.0897 - accuracy: 0.9718\n",
            "Epoch 32/70\n",
            "24/24 [==============================] - 0s 4ms/step - loss: 0.0942 - accuracy: 0.9712\n",
            "Epoch 33/70\n",
            "24/24 [==============================] - 0s 4ms/step - loss: 0.1058 - accuracy: 0.9682\n",
            "Epoch 34/70\n",
            "24/24 [==============================] - 0s 4ms/step - loss: 0.0821 - accuracy: 0.9678\n",
            "Epoch 35/70\n",
            "24/24 [==============================] - 0s 3ms/step - loss: 0.0789 - accuracy: 0.9709\n",
            "Epoch 36/70\n",
            "24/24 [==============================] - 0s 4ms/step - loss: 0.0657 - accuracy: 0.9815\n",
            "Epoch 37/70\n",
            "24/24 [==============================] - 0s 4ms/step - loss: 0.0735 - accuracy: 0.9708\n",
            "Epoch 38/70\n",
            "24/24 [==============================] - 0s 4ms/step - loss: 0.1010 - accuracy: 0.9701\n",
            "Epoch 39/70\n",
            "24/24 [==============================] - 0s 3ms/step - loss: 0.0520 - accuracy: 0.9841\n",
            "Epoch 40/70\n",
            "24/24 [==============================] - 0s 4ms/step - loss: 0.0651 - accuracy: 0.9826\n",
            "Epoch 41/70\n",
            "24/24 [==============================] - 0s 4ms/step - loss: 0.0670 - accuracy: 0.9791\n",
            "Epoch 42/70\n",
            "24/24 [==============================] - 0s 5ms/step - loss: 0.0711 - accuracy: 0.9847\n",
            "Epoch 43/70\n",
            "24/24 [==============================] - 0s 4ms/step - loss: 0.0538 - accuracy: 0.9861\n",
            "Epoch 44/70\n",
            "24/24 [==============================] - 0s 4ms/step - loss: 0.0580 - accuracy: 0.9794\n",
            "Epoch 45/70\n",
            "24/24 [==============================] - 0s 5ms/step - loss: 0.0326 - accuracy: 0.9916\n",
            "Epoch 46/70\n",
            "24/24 [==============================] - 0s 5ms/step - loss: 0.0646 - accuracy: 0.9838\n",
            "Epoch 47/70\n",
            "24/24 [==============================] - 0s 4ms/step - loss: 0.0694 - accuracy: 0.9687\n",
            "Epoch 48/70\n",
            "24/24 [==============================] - 0s 4ms/step - loss: 0.0447 - accuracy: 0.9864\n",
            "Epoch 49/70\n",
            "24/24 [==============================] - 0s 4ms/step - loss: 0.0509 - accuracy: 0.9815\n",
            "Epoch 50/70\n",
            "24/24 [==============================] - 0s 3ms/step - loss: 0.0697 - accuracy: 0.9796\n",
            "Epoch 51/70\n",
            "24/24 [==============================] - 0s 4ms/step - loss: 0.0735 - accuracy: 0.9787\n",
            "Epoch 52/70\n",
            "24/24 [==============================] - 0s 4ms/step - loss: 0.0454 - accuracy: 0.9898\n",
            "Epoch 53/70\n",
            "24/24 [==============================] - 0s 3ms/step - loss: 0.0646 - accuracy: 0.9751\n",
            "Epoch 54/70\n",
            "24/24 [==============================] - 0s 4ms/step - loss: 0.0473 - accuracy: 0.9853\n",
            "Epoch 55/70\n",
            "24/24 [==============================] - 0s 4ms/step - loss: 0.0566 - accuracy: 0.9823\n",
            "Epoch 56/70\n",
            "24/24 [==============================] - 0s 4ms/step - loss: 0.0488 - accuracy: 0.9794\n",
            "Epoch 57/70\n",
            "24/24 [==============================] - 0s 4ms/step - loss: 0.1191 - accuracy: 0.9596\n",
            "Epoch 58/70\n",
            "24/24 [==============================] - 0s 4ms/step - loss: 0.1001 - accuracy: 0.9757\n",
            "Epoch 59/70\n",
            "24/24 [==============================] - 0s 4ms/step - loss: 0.0575 - accuracy: 0.9790\n",
            "Epoch 60/70\n",
            "24/24 [==============================] - 0s 4ms/step - loss: 0.0388 - accuracy: 0.9881\n",
            "Epoch 61/70\n",
            "24/24 [==============================] - 0s 3ms/step - loss: 0.0619 - accuracy: 0.9888\n",
            "Epoch 62/70\n",
            "24/24 [==============================] - 0s 3ms/step - loss: 0.0548 - accuracy: 0.9807\n",
            "Epoch 63/70\n",
            "24/24 [==============================] - 0s 4ms/step - loss: 0.0762 - accuracy: 0.9751\n",
            "Epoch 64/70\n",
            "24/24 [==============================] - 0s 3ms/step - loss: 0.0632 - accuracy: 0.9788\n",
            "Epoch 65/70\n",
            "24/24 [==============================] - 0s 3ms/step - loss: 0.0448 - accuracy: 0.9884\n",
            "Epoch 66/70\n",
            "24/24 [==============================] - 0s 3ms/step - loss: 0.0379 - accuracy: 0.9885\n",
            "Epoch 67/70\n",
            "24/24 [==============================] - 0s 3ms/step - loss: 0.0258 - accuracy: 0.9950\n",
            "Epoch 68/70\n",
            "24/24 [==============================] - 0s 4ms/step - loss: 0.0719 - accuracy: 0.9639\n",
            "Epoch 69/70\n",
            "24/24 [==============================] - 0s 4ms/step - loss: 0.0586 - accuracy: 0.9818\n",
            "Epoch 70/70\n",
            "24/24 [==============================] - 0s 4ms/step - loss: 0.0341 - accuracy: 0.9894\n"
          ],
          "name": "stdout"
        },
        {
          "output_type": "execute_result",
          "data": {
            "text/plain": [
              "<tensorflow.python.keras.callbacks.History at 0x7fb6563f2c18>"
            ]
          },
          "metadata": {
            "tags": []
          },
          "execution_count": 22
        }
      ]
    },
    {
      "cell_type": "code",
      "metadata": {
        "colab": {
          "base_uri": "https://localhost:8080/"
        },
        "id": "CuOlsfy5P0Sk",
        "outputId": "823cb3f3-b251-45fe-d6dc-ff4c7f53f25f"
      },
      "source": [
        "model.evaluate(x_test, y_test)\r\n",
        "\r\n",
        "model.save('model.h5')\r\n",
        "converter = tf.lite.TFLiteConverter.from_keras_model(model)\r\n",
        "tflite_model = converter.convert()\r\n",
        "open('mnist.tflite', 'wb').write(tflite_model)"
      ],
      "execution_count": 23,
      "outputs": [
        {
          "output_type": "stream",
          "text": [
            "8/8 [==============================] - 0s 2ms/step - loss: 0.5257 - accuracy: 0.8920\n",
            "INFO:tensorflow:Assets written to: /tmp/tmp0ghrtrf4/assets\n"
          ],
          "name": "stdout"
        },
        {
          "output_type": "stream",
          "text": [
            "INFO:tensorflow:Assets written to: /tmp/tmp0ghrtrf4/assets\n"
          ],
          "name": "stderr"
        },
        {
          "output_type": "execute_result",
          "data": {
            "text/plain": [
              "383260"
            ]
          },
          "metadata": {
            "tags": []
          },
          "execution_count": 23
        }
      ]
    },
    {
      "cell_type": "code",
      "metadata": {
        "colab": {
          "base_uri": "https://localhost:8080/",
          "height": 17
        },
        "id": "8UpQSJps78C_",
        "outputId": "1b08097a-9094-4771-c416-f4f79de71d8b"
      },
      "source": [
        "from google.colab import files\r\n",
        "files.download('mnist.tflite')"
      ],
      "execution_count": 15,
      "outputs": [
        {
          "output_type": "display_data",
          "data": {
            "application/javascript": [
              "\n",
              "    async function download(id, filename, size) {\n",
              "      if (!google.colab.kernel.accessAllowed) {\n",
              "        return;\n",
              "      }\n",
              "      const div = document.createElement('div');\n",
              "      const label = document.createElement('label');\n",
              "      label.textContent = `Downloading \"${filename}\": `;\n",
              "      div.appendChild(label);\n",
              "      const progress = document.createElement('progress');\n",
              "      progress.max = size;\n",
              "      div.appendChild(progress);\n",
              "      document.body.appendChild(div);\n",
              "\n",
              "      const buffers = [];\n",
              "      let downloaded = 0;\n",
              "\n",
              "      const channel = await google.colab.kernel.comms.open(id);\n",
              "      // Send a message to notify the kernel that we're ready.\n",
              "      channel.send({})\n",
              "\n",
              "      for await (const message of channel.messages) {\n",
              "        // Send a message to notify the kernel that we're ready.\n",
              "        channel.send({})\n",
              "        if (message.buffers) {\n",
              "          for (const buffer of message.buffers) {\n",
              "            buffers.push(buffer);\n",
              "            downloaded += buffer.byteLength;\n",
              "            progress.value = downloaded;\n",
              "          }\n",
              "        }\n",
              "      }\n",
              "      const blob = new Blob(buffers, {type: 'application/binary'});\n",
              "      const a = document.createElement('a');\n",
              "      a.href = window.URL.createObjectURL(blob);\n",
              "      a.download = filename;\n",
              "      div.appendChild(a);\n",
              "      a.click();\n",
              "      div.remove();\n",
              "    }\n",
              "  "
            ],
            "text/plain": [
              "<IPython.core.display.Javascript object>"
            ]
          },
          "metadata": {
            "tags": []
          }
        },
        {
          "output_type": "display_data",
          "data": {
            "application/javascript": [
              "download(\"download_c3efe2a2-210a-4802-8343-dd27e5a23b46\", \"mnist.tflite\", 383256)"
            ],
            "text/plain": [
              "<IPython.core.display.Javascript object>"
            ]
          },
          "metadata": {
            "tags": []
          }
        }
      ]
    },
    {
      "cell_type": "code",
      "metadata": {
        "id": "o16DyKOEAv7Y"
      },
      "source": [
        ""
      ],
      "execution_count": 95,
      "outputs": []
    },
    {
      "cell_type": "code",
      "metadata": {
        "id": "LXWmuPgdBv06"
      },
      "source": [
        ""
      ],
      "execution_count": 95,
      "outputs": []
    }
  ]
}